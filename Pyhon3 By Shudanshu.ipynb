{
 "cells": [
  {
   "cell_type": "code",
   "execution_count": 1,
   "id": "50732412",
   "metadata": {},
   "outputs": [],
   "source": [
    "a=(\"Naveen\",22,25.4)"
   ]
  },
  {
   "cell_type": "code",
   "execution_count": 2,
   "id": "c464d744",
   "metadata": {},
   "outputs": [
    {
     "data": {
      "text/plain": [
       "tuple"
      ]
     },
     "execution_count": 2,
     "metadata": {},
     "output_type": "execute_result"
    }
   ],
   "source": [
    "type(a)"
   ]
  },
  {
   "cell_type": "code",
   "execution_count": 3,
   "id": "d726ec79",
   "metadata": {},
   "outputs": [
    {
     "data": {
      "text/plain": [
       "22"
      ]
     },
     "execution_count": 3,
     "metadata": {},
     "output_type": "execute_result"
    }
   ],
   "source": [
    "a[1]"
   ]
  },
  {
   "cell_type": "code",
   "execution_count": 4,
   "id": "98ca3f8f",
   "metadata": {},
   "outputs": [
    {
     "data": {
      "text/plain": [
       "'Naveen'"
      ]
     },
     "execution_count": 4,
     "metadata": {},
     "output_type": "execute_result"
    }
   ],
   "source": [
    "a[0]"
   ]
  },
  {
   "cell_type": "code",
   "execution_count": 1,
   "id": "c5a8453e",
   "metadata": {},
   "outputs": [],
   "source": [
    "A=(\"Naveen\",\"Dubey\",5,5.5,True)\n"
   ]
  },
  {
   "cell_type": "code",
   "execution_count": 2,
   "id": "45875891",
   "metadata": {},
   "outputs": [
    {
     "data": {
      "text/plain": [
       "tuple"
      ]
     },
     "execution_count": 2,
     "metadata": {},
     "output_type": "execute_result"
    }
   ],
   "source": [
    "type(A)"
   ]
  },
  {
   "cell_type": "code",
   "execution_count": 5,
   "id": "8b2d5e4c",
   "metadata": {},
   "outputs": [
    {
     "data": {
      "text/plain": [
       "0"
      ]
     },
     "execution_count": 5,
     "metadata": {},
     "output_type": "execute_result"
    }
   ],
   "source": [
    "A.count(\"a\")"
   ]
  },
  {
   "cell_type": "code",
   "execution_count": 10,
   "id": "4fc5e953",
   "metadata": {},
   "outputs": [
    {
     "data": {
      "text/plain": [
       "True"
      ]
     },
     "execution_count": 10,
     "metadata": {},
     "output_type": "execute_result"
    }
   ],
   "source": [
    "A[4]"
   ]
  },
  {
   "cell_type": "code",
   "execution_count": 11,
   "id": "f8d4e085",
   "metadata": {},
   "outputs": [
    {
     "data": {
      "text/plain": [
       "('Naveen', True)"
      ]
     },
     "execution_count": 11,
     "metadata": {},
     "output_type": "execute_result"
    }
   ],
   "source": [
    "A[0::4]"
   ]
  },
  {
   "cell_type": "code",
   "execution_count": 12,
   "id": "14e527fa",
   "metadata": {},
   "outputs": [
    {
     "data": {
      "text/plain": [
       "('Naveen', 'Dubey', 5, 5.5, True)"
      ]
     },
     "execution_count": 12,
     "metadata": {},
     "output_type": "execute_result"
    }
   ],
   "source": [
    "A"
   ]
  },
  {
   "cell_type": "code",
   "execution_count": 15,
   "id": "04ed2bef",
   "metadata": {},
   "outputs": [],
   "source": [
    "a=(\"Naveen\",22,25.4)"
   ]
  },
  {
   "cell_type": "code",
   "execution_count": 16,
   "id": "46b236bb",
   "metadata": {},
   "outputs": [
    {
     "data": {
      "text/plain": [
       "('Naveen', 'Dubey', 5, 5.5, True, 'Naveen', 22, 25.4)"
      ]
     },
     "execution_count": 16,
     "metadata": {},
     "output_type": "execute_result"
    }
   ],
   "source": [
    "A+a"
   ]
  },
  {
   "cell_type": "code",
   "execution_count": 17,
   "id": "2d620b75",
   "metadata": {},
   "outputs": [
    {
     "ename": "TypeError",
     "evalue": "can only concatenate tuple (not \"str\") to tuple",
     "output_type": "error",
     "traceback": [
      "\u001b[1;31m---------------------------------------------------------------------------\u001b[0m",
      "\u001b[1;31mTypeError\u001b[0m                                 Traceback (most recent call last)",
      "\u001b[1;32m~\\AppData\\Local\\Temp\\ipykernel_5640\\2885064386.py\u001b[0m in \u001b[0;36m<module>\u001b[1;34m\u001b[0m\n\u001b[1;32m----> 1\u001b[1;33m \u001b[0ma\u001b[0m\u001b[1;33m+\u001b[0m\u001b[1;34m\"India\"\u001b[0m\u001b[1;33m\u001b[0m\u001b[1;33m\u001b[0m\u001b[0m\n\u001b[0m",
      "\u001b[1;31mTypeError\u001b[0m: can only concatenate tuple (not \"str\") to tuple"
     ]
    }
   ],
   "source": [
    "a+\"India\""
   ]
  },
  {
   "cell_type": "code",
   "execution_count": 18,
   "id": "9ef9eb2a",
   "metadata": {},
   "outputs": [
    {
     "data": {
      "text/plain": [
       "('Naveen', 'Dubey', 5, 5.5, True, 'Naveen', 'Dubey', 5, 5.5, True)"
      ]
     },
     "execution_count": 18,
     "metadata": {},
     "output_type": "execute_result"
    }
   ],
   "source": [
    "A*2"
   ]
  },
  {
   "cell_type": "code",
   "execution_count": 19,
   "id": "8dbf3204",
   "metadata": {},
   "outputs": [
    {
     "ename": "TypeError",
     "evalue": "unsupported operand type(s) for /: 'tuple' and 'int'",
     "output_type": "error",
     "traceback": [
      "\u001b[1;31m---------------------------------------------------------------------------\u001b[0m",
      "\u001b[1;31mTypeError\u001b[0m                                 Traceback (most recent call last)",
      "\u001b[1;32m~\\AppData\\Local\\Temp\\ipykernel_5640\\3171056322.py\u001b[0m in \u001b[0;36m<module>\u001b[1;34m\u001b[0m\n\u001b[1;32m----> 1\u001b[1;33m \u001b[0mA\u001b[0m\u001b[1;33m/\u001b[0m\u001b[1;36m2\u001b[0m\u001b[1;33m\u001b[0m\u001b[1;33m\u001b[0m\u001b[0m\n\u001b[0m",
      "\u001b[1;31mTypeError\u001b[0m: unsupported operand type(s) for /: 'tuple' and 'int'"
     ]
    }
   ],
   "source": [
    "A/2"
   ]
  },
  {
   "cell_type": "code",
   "execution_count": 21,
   "id": "b00787ab",
   "metadata": {},
   "outputs": [
    {
     "data": {
      "text/plain": [
       "1"
      ]
     },
     "execution_count": 21,
     "metadata": {},
     "output_type": "execute_result"
    }
   ],
   "source": [
    "A.count(\"Naveen\")"
   ]
  },
  {
   "cell_type": "code",
   "execution_count": 23,
   "id": "69ced7fe",
   "metadata": {},
   "outputs": [
    {
     "data": {
      "text/plain": [
       "3"
      ]
     },
     "execution_count": 23,
     "metadata": {},
     "output_type": "execute_result"
    }
   ],
   "source": [
    "A.index(5.5)"
   ]
  },
  {
   "cell_type": "code",
   "execution_count": 24,
   "id": "782d8dfc",
   "metadata": {},
   "outputs": [
    {
     "data": {
      "text/plain": [
       "('Naveen', 22, 25.4)"
      ]
     },
     "execution_count": 24,
     "metadata": {},
     "output_type": "execute_result"
    }
   ],
   "source": [
    "a"
   ]
  },
  {
   "cell_type": "code",
   "execution_count": 25,
   "id": "56fdbf92",
   "metadata": {},
   "outputs": [
    {
     "data": {
      "text/plain": [
       "('Naveen', 'Dubey', 5, 5.5, True)"
      ]
     },
     "execution_count": 25,
     "metadata": {},
     "output_type": "execute_result"
    }
   ],
   "source": [
    "A"
   ]
  },
  {
   "cell_type": "code",
   "execution_count": 30,
   "id": "322895a8",
   "metadata": {},
   "outputs": [],
   "source": [
    "a=([\"naveen\",22,23,2.2,True]   , (\"Dubey\",525,55.6))"
   ]
  },
  {
   "cell_type": "code",
   "execution_count": 32,
   "id": "519318c0",
   "metadata": {},
   "outputs": [
    {
     "data": {
      "text/plain": [
       "['naveen', 22, 23, 2.2, True]"
      ]
     },
     "execution_count": 32,
     "metadata": {},
     "output_type": "execute_result"
    }
   ],
   "source": [
    "a[0]"
   ]
  },
  {
   "cell_type": "code",
   "execution_count": 33,
   "id": "57f7a676",
   "metadata": {},
   "outputs": [
    {
     "data": {
      "text/plain": [
       "23"
      ]
     },
     "execution_count": 33,
     "metadata": {},
     "output_type": "execute_result"
    }
   ],
   "source": [
    "a[0][2]"
   ]
  },
  {
   "cell_type": "code",
   "execution_count": 34,
   "id": "f17e4b51",
   "metadata": {},
   "outputs": [],
   "source": [
    "a[0][2]=\"Nkd\""
   ]
  },
  {
   "cell_type": "code",
   "execution_count": 35,
   "id": "69b898f5",
   "metadata": {},
   "outputs": [
    {
     "data": {
      "text/plain": [
       "(['naveen', 22, 'Nkd', 2.2, True], ('Dubey', 525, 55.6))"
      ]
     },
     "execution_count": 35,
     "metadata": {},
     "output_type": "execute_result"
    }
   ],
   "source": [
    "a"
   ]
  },
  {
   "cell_type": "code",
   "execution_count": 36,
   "id": "4f7d565f",
   "metadata": {},
   "outputs": [
    {
     "data": {
      "text/plain": [
       "('Dubey', 525, 55.6)"
      ]
     },
     "execution_count": 36,
     "metadata": {},
     "output_type": "execute_result"
    }
   ],
   "source": [
    " a[1]"
   ]
  },
  {
   "cell_type": "code",
   "execution_count": 37,
   "id": "a135e4ef",
   "metadata": {},
   "outputs": [
    {
     "data": {
      "text/plain": [
       "55.6"
      ]
     },
     "execution_count": 37,
     "metadata": {},
     "output_type": "execute_result"
    }
   ],
   "source": [
    "a[1][2]"
   ]
  },
  {
   "cell_type": "code",
   "execution_count": 38,
   "id": "68319507",
   "metadata": {},
   "outputs": [
    {
     "ename": "TypeError",
     "evalue": "'tuple' object does not support item assignment",
     "output_type": "error",
     "traceback": [
      "\u001b[1;31m---------------------------------------------------------------------------\u001b[0m",
      "\u001b[1;31mTypeError\u001b[0m                                 Traceback (most recent call last)",
      "\u001b[1;32m~\\AppData\\Local\\Temp\\ipykernel_5640\\3197599579.py\u001b[0m in \u001b[0;36m<module>\u001b[1;34m\u001b[0m\n\u001b[1;32m----> 1\u001b[1;33m \u001b[0ma\u001b[0m\u001b[1;33m[\u001b[0m\u001b[1;36m1\u001b[0m\u001b[1;33m]\u001b[0m\u001b[1;33m[\u001b[0m\u001b[1;36m2\u001b[0m\u001b[1;33m]\u001b[0m\u001b[1;33m=\u001b[0m\u001b[1;34m\"nd\"\u001b[0m\u001b[1;33m\u001b[0m\u001b[1;33m\u001b[0m\u001b[0m\n\u001b[0m",
      "\u001b[1;31mTypeError\u001b[0m: 'tuple' object does not support item assignment"
     ]
    }
   ],
   "source": [
    "a[1][2]=\"nd\""
   ]
  },
  {
   "cell_type": "code",
   "execution_count": 39,
   "id": "e821f420",
   "metadata": {},
   "outputs": [
    {
     "data": {
      "text/plain": [
       "('Naveen', 'Dubey', 5, 5.5, True)"
      ]
     },
     "execution_count": 39,
     "metadata": {},
     "output_type": "execute_result"
    }
   ],
   "source": [
    "A"
   ]
  },
  {
   "cell_type": "code",
   "execution_count": 40,
   "id": "6f311fc8",
   "metadata": {},
   "outputs": [],
   "source": [
    "A=list(A)"
   ]
  },
  {
   "cell_type": "code",
   "execution_count": 41,
   "id": "24425c75",
   "metadata": {},
   "outputs": [
    {
     "data": {
      "text/plain": [
       "['Naveen', 'Dubey', 5, 5.5, True]"
      ]
     },
     "execution_count": 41,
     "metadata": {},
     "output_type": "execute_result"
    }
   ],
   "source": [
    "Aa[1][2]"
   ]
  },
  {
   "cell_type": "code",
   "execution_count": 42,
   "id": "57953c94",
   "metadata": {},
   "outputs": [],
   "source": [
    "a=['Naveen', 'Dubey', 5, 5.5, True]"
   ]
  },
  {
   "cell_type": "code",
   "execution_count": 43,
   "id": "d53191b0",
   "metadata": {},
   "outputs": [],
   "source": [
    "a=tuple(a)"
   ]
  },
  {
   "cell_type": "markdown",
   "id": "c3837540",
   "metadata": {},
   "source": [
    "# SETS"
   ]
  },
  {
   "cell_type": "code",
   "execution_count": 50,
   "id": "96776c82",
   "metadata": {},
   "outputs": [],
   "source": [
    "s=(\"Naveen\",22,22)"
   ]
  },
  {
   "cell_type": "code",
   "execution_count": 52,
   "id": "466f3b96",
   "metadata": {},
   "outputs": [
    {
     "data": {
      "text/plain": [
       "{22, 'Naveen'}"
      ]
     },
     "execution_count": 52,
     "metadata": {},
     "output_type": "execute_result"
    }
   ],
   "source": [
    "set(s)"
   ]
  },
  {
   "cell_type": "code",
   "execution_count": 53,
   "id": "6f56f0b2",
   "metadata": {},
   "outputs": [],
   "source": [
    "a={}"
   ]
  },
  {
   "cell_type": "code",
   "execution_count": 55,
   "id": "2ded267a",
   "metadata": {},
   "outputs": [
    {
     "data": {
      "text/plain": [
       "dict"
      ]
     },
     "execution_count": 55,
     "metadata": {},
     "output_type": "execute_result"
    }
   ],
   "source": [
    "type(a)"
   ]
  },
  {
   "cell_type": "code",
   "execution_count": 56,
   "id": "05d3efc7",
   "metadata": {},
   "outputs": [],
   "source": [
    "a=(\"11-Dec-2022 — Python Tuple is a collection of objects separated by commas. In some ways, a tuple is similar to a list in terms of indexing, nested objects ...\")"
   ]
  },
  {
   "cell_type": "code",
   "execution_count": 57,
   "id": "e95d1d52",
   "metadata": {},
   "outputs": [
    {
     "data": {
      "text/plain": [
       "{' ',\n",
       " ',',\n",
       " '-',\n",
       " '.',\n",
       " '0',\n",
       " '1',\n",
       " '2',\n",
       " 'D',\n",
       " 'I',\n",
       " 'P',\n",
       " 'T',\n",
       " 'a',\n",
       " 'b',\n",
       " 'c',\n",
       " 'd',\n",
       " 'e',\n",
       " 'f',\n",
       " 'g',\n",
       " 'h',\n",
       " 'i',\n",
       " 'j',\n",
       " 'l',\n",
       " 'm',\n",
       " 'n',\n",
       " 'o',\n",
       " 'p',\n",
       " 'r',\n",
       " 's',\n",
       " 't',\n",
       " 'u',\n",
       " 'w',\n",
       " 'x',\n",
       " 'y',\n",
       " '—'}"
      ]
     },
     "execution_count": 57,
     "metadata": {},
     "output_type": "execute_result"
    }
   ],
   "source": [
    "set(a)"
   ]
  },
  {
   "cell_type": "code",
   "execution_count": 58,
   "id": "a411c623",
   "metadata": {},
   "outputs": [],
   "source": [
    "a={}"
   ]
  },
  {
   "cell_type": "code",
   "execution_count": 59,
   "id": "08527b9b",
   "metadata": {},
   "outputs": [
    {
     "data": {
      "text/plain": [
       "dict"
      ]
     },
     "execution_count": 59,
     "metadata": {},
     "output_type": "execute_result"
    }
   ],
   "source": [
    "type(a)"
   ]
  },
  {
   "cell_type": "code",
   "execution_count": 60,
   "id": "15d5a282",
   "metadata": {},
   "outputs": [
    {
     "data": {
      "text/plain": [
       "{}"
      ]
     },
     "execution_count": 60,
     "metadata": {},
     "output_type": "execute_result"
    }
   ],
   "source": [
    "a"
   ]
  },
  {
   "cell_type": "code",
   "execution_count": 61,
   "id": "1f8e0980",
   "metadata": {},
   "outputs": [],
   "source": [
    "a={\"naveen\",\"Dubey\",2,6,2,5,5,5,4,4,4,}"
   ]
  },
  {
   "cell_type": "code",
   "execution_count": 62,
   "id": "547514f1",
   "metadata": {},
   "outputs": [
    {
     "data": {
      "text/plain": [
       "{2, 4, 5, 6, 'Dubey', 'naveen'}"
      ]
     },
     "execution_count": 62,
     "metadata": {},
     "output_type": "execute_result"
    }
   ],
   "source": [
    "a"
   ]
  },
  {
   "cell_type": "code",
   "execution_count": 84,
   "id": "253b48f4",
   "metadata": {},
   "outputs": [
    {
     "ename": "TypeError",
     "evalue": "unhashable type: 'list'",
     "output_type": "error",
     "traceback": [
      "\u001b[1;31m---------------------------------------------------------------------------\u001b[0m",
      "\u001b[1;31mTypeError\u001b[0m                                 Traceback (most recent call last)",
      "\u001b[1;32m~\\AppData\\Local\\Temp\\ipykernel_5640\\176400285.py\u001b[0m in \u001b[0;36m<module>\u001b[1;34m\u001b[0m\n\u001b[1;32m----> 1\u001b[1;33m \u001b[0mb\u001b[0m\u001b[1;33m=\u001b[0m\u001b[1;33m{\u001b[0m\u001b[1;33m[\u001b[0m \u001b[1;34m\"nkd\"\u001b[0m \u001b[1;33m,\u001b[0m\u001b[1;34m\"nhdd\"\u001b[0m \u001b[1;33m]\u001b[0m \u001b[1;33m,\u001b[0m \u001b[1;36m5\u001b[0m \u001b[1;33m,\u001b[0m \u001b[1;34m\"N\"\u001b[0m \u001b[1;33m,\u001b[0m \u001b[1;36m5\u001b[0m \u001b[1;33m,\u001b[0m \u001b[1;36m4\u001b[0m \u001b[1;33m,\u001b[0m \u001b[1;36m8\u001b[0m \u001b[1;33m}\u001b[0m\u001b[1;33m\u001b[0m\u001b[1;33m\u001b[0m\u001b[0m\n\u001b[0m",
      "\u001b[1;31mTypeError\u001b[0m: unhashable type: 'list'"
     ]
    }
   ],
   "source": [
    "b={[ \"nkd\" ,\"nhdd\" ] , 5 , \"N\" , 5 , 4 , 8 }"
   ]
  },
  {
   "cell_type": "markdown",
   "id": "d375a219",
   "metadata": {},
   "source": [
    "# DICT"
   ]
  },
  {
   "cell_type": "code",
   "execution_count": 4,
   "id": "4fbf784b",
   "metadata": {},
   "outputs": [],
   "source": [
    "a=\"Naveen dubey \""
   ]
  },
  {
   "cell_type": "code",
   "execution_count": 5,
   "id": "d7175799",
   "metadata": {},
   "outputs": [
    {
     "data": {
      "text/plain": [
       "'Naveen dubey '"
      ]
     },
     "execution_count": 5,
     "metadata": {},
     "output_type": "execute_result"
    }
   ],
   "source": [
    "a"
   ]
  },
  {
   "cell_type": "code",
   "execution_count": 6,
   "id": "449a3777",
   "metadata": {},
   "outputs": [],
   "source": [
    "a={\"Name\":\"Naveen\",\"Surname\":\"Dubey\",\"Age\":}"
   ]
  },
  {
   "cell_type": "code",
   "execution_count": 11,
   "id": "c61ee9ee",
   "metadata": {},
   "outputs": [
    {
     "data": {
      "text/plain": [
       "'Naveen'"
      ]
     },
     "execution_count": 11,
     "metadata": {},
     "output_type": "execute_result"
    }
   ],
   "source": [
    "a[\"Name\"]"
   ]
  },
  {
   "cell_type": "code",
   "execution_count": 12,
   "id": "d274c872",
   "metadata": {},
   "outputs": [
    {
     "data": {
      "text/plain": [
       "23"
      ]
     },
     "execution_count": 12,
     "metadata": {},
     "output_type": "execute_result"
    }
   ],
   "source": [
    "a[\"Age\"]"
   ]
  },
  {
   "cell_type": "code",
   "execution_count": 14,
   "id": "42032fd8",
   "metadata": {},
   "outputs": [
    {
     "data": {
      "text/plain": [
       "'Naveen'"
      ]
     },
     "execution_count": 14,
     "metadata": {},
     "output_type": "execute_result"
    }
   ],
   "source": [
    "a.pop(\"Name\")"
   ]
  },
  {
   "cell_type": "code",
   "execution_count": 15,
   "id": "42c08150",
   "metadata": {},
   "outputs": [
    {
     "data": {
      "text/plain": [
       "{'Surname': 'Dubey', 'Age': 23}"
      ]
     },
     "execution_count": 15,
     "metadata": {},
     "output_type": "execute_result"
    }
   ],
   "source": [
    "a"
   ]
  },
  {
   "cell_type": "code",
   "execution_count": 20,
   "id": "a77158b1",
   "metadata": {},
   "outputs": [],
   "source": [
    "a.setdefault(\"Name\")"
   ]
  },
  {
   "cell_type": "code",
   "execution_count": 21,
   "id": "102eec1d",
   "metadata": {},
   "outputs": [
    {
     "data": {
      "text/plain": [
       "{'Surname': 'Dubey', 'Age': 23, 'Name': None}"
      ]
     },
     "execution_count": 21,
     "metadata": {},
     "output_type": "execute_result"
    }
   ],
   "source": [
    "a"
   ]
  },
  {
   "cell_type": "code",
   "execution_count": 25,
   "id": "cfaf2d58",
   "metadata": {},
   "outputs": [],
   "source": [
    "a.setdefault(\"Name\")"
   ]
  },
  {
   "cell_type": "code",
   "execution_count": 26,
   "id": "ad6d0c23",
   "metadata": {},
   "outputs": [
    {
     "data": {
      "text/plain": [
       "{'Surname': 'Dubey', 'Age': 23, 'Name': None}"
      ]
     },
     "execution_count": 26,
     "metadata": {},
     "output_type": "execute_result"
    }
   ],
   "source": [
    "a"
   ]
  },
  {
   "cell_type": "code",
   "execution_count": 28,
   "id": "696259d7",
   "metadata": {},
   "outputs": [
    {
     "ename": "SyntaxError",
     "evalue": "invalid syntax (2768843127.py, line 1)",
     "output_type": "error",
     "traceback": [
      "\u001b[1;36m  File \u001b[1;32m\"C:\\Users\\naveen dubey\\AppData\\Local\\Temp\\ipykernel_5172\\2768843127.py\"\u001b[1;36m, line \u001b[1;32m1\u001b[0m\n\u001b[1;33m    a.setdefault(\"Na\":\"Naveen\")\u001b[0m\n\u001b[1;37m                     ^\u001b[0m\n\u001b[1;31mSyntaxError\u001b[0m\u001b[1;31m:\u001b[0m invalid syntax\n"
     ]
    }
   ],
   "source": [
    "a.setdefault(\"Na\":\"Naveen\")"
   ]
  },
  {
   "cell_type": "code",
   "execution_count": 30,
   "id": "3d7443c2",
   "metadata": {},
   "outputs": [
    {
     "data": {
      "text/plain": [
       "('Name', None)"
      ]
     },
     "execution_count": 30,
     "metadata": {},
     "output_type": "execute_result"
    }
   ],
   "source": [
    "a.popitem()"
   ]
  },
  {
   "cell_type": "code",
   "execution_count": 31,
   "id": "37995ac7",
   "metadata": {},
   "outputs": [],
   "source": [
    "a.clear()"
   ]
  },
  {
   "cell_type": "code",
   "execution_count": 32,
   "id": "c646a394",
   "metadata": {},
   "outputs": [
    {
     "data": {
      "text/plain": [
       "{}"
      ]
     },
     "execution_count": 32,
     "metadata": {},
     "output_type": "execute_result"
    }
   ],
   "source": [
    "a"
   ]
  },
  {
   "cell_type": "code",
   "execution_count": 33,
   "id": "0483171e",
   "metadata": {},
   "outputs": [
    {
     "data": {
      "text/plain": [
       "{}"
      ]
     },
     "execution_count": 33,
     "metadata": {},
     "output_type": "execute_result"
    }
   ],
   "source": [
    "a.copy()"
   ]
  },
  {
   "cell_type": "code",
   "execution_count": 35,
   "id": "c801449e",
   "metadata": {},
   "outputs": [],
   "source": [
    "a={\"Name\":\"Naveen\",\"Surname\":\"Dubey\",\"Age\":22}"
   ]
  },
  {
   "cell_type": "code",
   "execution_count": 36,
   "id": "14a7bdee",
   "metadata": {},
   "outputs": [
    {
     "data": {
      "text/plain": [
       "{'Name': 'Naveen', 'Surname': 'Dubey', 'Age': 22}"
      ]
     },
     "execution_count": 36,
     "metadata": {},
     "output_type": "execute_result"
    }
   ],
   "source": [
    "a"
   ]
  },
  {
   "cell_type": "code",
   "execution_count": 37,
   "id": "be0ca929",
   "metadata": {},
   "outputs": [
    {
     "data": {
      "text/plain": [
       "{'Name': 'Naveen', 'Surname': 'Dubey', 'Age': 22}"
      ]
     },
     "execution_count": 37,
     "metadata": {},
     "output_type": "execute_result"
    }
   ],
   "source": [
    "a.copy()"
   ]
  },
  {
   "cell_type": "code",
   "execution_count": 40,
   "id": "5d9f5e9e",
   "metadata": {},
   "outputs": [
    {
     "data": {
      "text/plain": [
       "{'N': None, 'K': None, 'd': None}"
      ]
     },
     "execution_count": 40,
     "metadata": {},
     "output_type": "execute_result"
    }
   ],
   "source": [
    "a.fromkeys(\"NKd\")"
   ]
  },
  {
   "cell_type": "code",
   "execution_count": 41,
   "id": "dd9346e9",
   "metadata": {},
   "outputs": [
    {
     "data": {
      "text/plain": [
       "{'Name': 'Naveen', 'Surname': 'Dubey', 'Age': 22}"
      ]
     },
     "execution_count": 41,
     "metadata": {},
     "output_type": "execute_result"
    }
   ],
   "source": [
    "a"
   ]
  },
  {
   "cell_type": "code",
   "execution_count": 46,
   "id": "86b80537",
   "metadata": {},
   "outputs": [
    {
     "ename": "SyntaxError",
     "evalue": "invalid syntax (1872786350.py, line 1)",
     "output_type": "error",
     "traceback": [
      "\u001b[1;36m  File \u001b[1;32m\"C:\\Users\\naveen dubey\\AppData\\Local\\Temp\\ipykernel_5172\\1872786350.py\"\u001b[1;36m, line \u001b[1;32m1\u001b[0m\n\u001b[1;33m    a.get(\"NKD\":\"Dub\")\u001b[0m\n\u001b[1;37m               ^\u001b[0m\n\u001b[1;31mSyntaxError\u001b[0m\u001b[1;31m:\u001b[0m invalid syntax\n"
     ]
    }
   ],
   "source": [
    "a.get(\"NKD\":\"Dub\")"
   ]
  },
  {
   "cell_type": "code",
   "execution_count": 44,
   "id": "09727a48",
   "metadata": {},
   "outputs": [
    {
     "data": {
      "text/plain": [
       "{'Name': 'Naveen', 'Surname': 'Dubey', 'Age': 22}"
      ]
     },
     "execution_count": 44,
     "metadata": {},
     "output_type": "execute_result"
    }
   ],
   "source": [
    "a"
   ]
  },
  {
   "cell_type": "code",
   "execution_count": 47,
   "id": "b3c75c70",
   "metadata": {},
   "outputs": [
    {
     "data": {
      "text/plain": [
       "dict_items([('Name', 'Naveen'), ('Surname', 'Dubey'), ('Age', 22)])"
      ]
     },
     "execution_count": 47,
     "metadata": {},
     "output_type": "execute_result"
    }
   ],
   "source": [
    "a.items()"
   ]
  },
  {
   "cell_type": "code",
   "execution_count": 48,
   "id": "5d586c87",
   "metadata": {},
   "outputs": [
    {
     "data": {
      "text/plain": [
       "('Age', 22)"
      ]
     },
     "execution_count": 48,
     "metadata": {},
     "output_type": "execute_result"
    }
   ],
   "source": [
    "a.popitem()"
   ]
  },
  {
   "cell_type": "code",
   "execution_count": 49,
   "id": "dda2a9c2",
   "metadata": {},
   "outputs": [
    {
     "data": {
      "text/plain": [
       "{'Name': 'Naveen', 'Surname': 'Dubey'}"
      ]
     },
     "execution_count": 49,
     "metadata": {},
     "output_type": "execute_result"
    }
   ],
   "source": [
    "a"
   ]
  },
  {
   "cell_type": "code",
   "execution_count": 50,
   "id": "14a140a8",
   "metadata": {},
   "outputs": [
    {
     "data": {
      "text/plain": [
       "dict_values(['Naveen', 'Dubey'])"
      ]
     },
     "execution_count": 50,
     "metadata": {},
     "output_type": "execute_result"
    }
   ],
   "source": [
    "a.values()"
   ]
  },
  {
   "cell_type": "code",
   "execution_count": 51,
   "id": "88271484",
   "metadata": {},
   "outputs": [
    {
     "data": {
      "text/plain": [
       "{'Name': 'Naveen', 'Surname': 'Dubey'}"
      ]
     },
     "execution_count": 51,
     "metadata": {},
     "output_type": "execute_result"
    }
   ],
   "source": [
    "a"
   ]
  },
  {
   "cell_type": "code",
   "execution_count": 52,
   "id": "d2f31f75",
   "metadata": {},
   "outputs": [],
   "source": [
    "b={22:22,44:65,77:56}"
   ]
  },
  {
   "cell_type": "code",
   "execution_count": 53,
   "id": "0dd68082",
   "metadata": {},
   "outputs": [
    {
     "data": {
      "text/plain": [
       "22"
      ]
     },
     "execution_count": 53,
     "metadata": {},
     "output_type": "execute_result"
    }
   ],
   "source": [
    "b[22]"
   ]
  },
  {
   "cell_type": "code",
   "execution_count": 54,
   "id": "f12b9790",
   "metadata": {},
   "outputs": [
    {
     "data": {
      "text/plain": [
       "65"
      ]
     },
     "execution_count": 54,
     "metadata": {},
     "output_type": "execute_result"
    }
   ],
   "source": [
    "b[44]"
   ]
  },
  {
   "cell_type": "code",
   "execution_count": 55,
   "id": "2378cce9",
   "metadata": {},
   "outputs": [
    {
     "data": {
      "text/plain": [
       "{22: 22, 44: 65, 77: 56}"
      ]
     },
     "execution_count": 55,
     "metadata": {},
     "output_type": "execute_result"
    }
   ],
   "source": [
    "b"
   ]
  },
  {
   "cell_type": "code",
   "execution_count": 1,
   "id": "ed9c7066",
   "metadata": {},
   "outputs": [],
   "source": [
    "b={\"key1\":[\"Naveen\",2,22.2],\"key2\":(\"Nav\",22,22.5),\"key3\":{\"NKD\",\"Praveen\"}}"
   ]
  },
  {
   "cell_type": "code",
   "execution_count": 3,
   "id": "79250a51",
   "metadata": {},
   "outputs": [
    {
     "data": {
      "text/plain": [
       "['Naveen', 2, 22.2]"
      ]
     },
     "execution_count": 3,
     "metadata": {},
     "output_type": "execute_result"
    }
   ],
   "source": [
    "b[\"key1\"]"
   ]
  },
  {
   "cell_type": "code",
   "execution_count": 6,
   "id": "5d8f0c18",
   "metadata": {},
   "outputs": [
    {
     "data": {
      "text/plain": [
       "{'NKD', 'Praveen'}"
      ]
     },
     "execution_count": 6,
     "metadata": {},
     "output_type": "execute_result"
    }
   ],
   "source": [
    "b[\"key3\"]"
   ]
  },
  {
   "cell_type": "code",
   "execution_count": 7,
   "id": "ec39a949",
   "metadata": {},
   "outputs": [],
   "source": [
    "b[\"key2\"]=(\"Kumar\",525)"
   ]
  },
  {
   "cell_type": "code",
   "execution_count": 8,
   "id": "12b4fb08",
   "metadata": {},
   "outputs": [
    {
     "data": {
      "text/plain": [
       "{'key1': ['Naveen', 2, 22.2],\n",
       " 'key2': ('Kumar', 525),\n",
       " 'key3': {'NKD', 'Praveen'}}"
      ]
     },
     "execution_count": 8,
     "metadata": {},
     "output_type": "execute_result"
    }
   ],
   "source": [
    "b"
   ]
  },
  {
   "cell_type": "code",
   "execution_count": 10,
   "id": "6d762394",
   "metadata": {},
   "outputs": [],
   "source": [
    "del[b]"
   ]
  },
  {
   "cell_type": "code",
   "execution_count": 14,
   "id": "9e800568",
   "metadata": {},
   "outputs": [],
   "source": [
    "a={\"1\":\"Naveen\",\"2\":\"Praveen\"}\n"
   ]
  },
  {
   "cell_type": "code",
   "execution_count": 18,
   "id": "de910e65",
   "metadata": {},
   "outputs": [],
   "source": [
    "del a[\"1\"]"
   ]
  },
  {
   "cell_type": "code",
   "execution_count": 19,
   "id": "73b5a808",
   "metadata": {},
   "outputs": [
    {
     "data": {
      "text/plain": [
       "{'2': 'Praveen'}"
      ]
     },
     "execution_count": 19,
     "metadata": {},
     "output_type": "execute_result"
    }
   ],
   "source": [
    "a"
   ]
  },
  {
   "cell_type": "code",
   "execution_count": 20,
   "id": "ae8d2c33",
   "metadata": {},
   "outputs": [],
   "source": [
    "a={\"1\":\"Naveen\",\"2\":\"praveen\"}\n",
    "b={\"3\":\"Divya\",\"4\":\"sarla\"}"
   ]
  },
  {
   "cell_type": "code",
   "execution_count": 22,
   "id": "3b0f8a92",
   "metadata": {},
   "outputs": [],
   "source": [
    "a.update(b)"
   ]
  },
  {
   "cell_type": "code",
   "execution_count": 23,
   "id": "ae390611",
   "metadata": {},
   "outputs": [
    {
     "data": {
      "text/plain": [
       "{'1': 'Naveen', '2': 'praveen', '3': 'Divya', '4': 'sarla'}"
      ]
     },
     "execution_count": 23,
     "metadata": {},
     "output_type": "execute_result"
    }
   ],
   "source": [
    "a"
   ]
  },
  {
   "cell_type": "code",
   "execution_count": 25,
   "id": "734decc4",
   "metadata": {},
   "outputs": [],
   "source": [
    "a=(\"Name\",\"Surname\")\n",
    "b=(\"Naveen\")"
   ]
  },
  {
   "cell_type": "code",
   "execution_count": 26,
   "id": "b339f603",
   "metadata": {},
   "outputs": [],
   "source": [
    "d={\"1\":\"Naveen\"}"
   ]
  },
  {
   "cell_type": "code",
   "execution_count": 27,
   "id": "cbcf02d0",
   "metadata": {},
   "outputs": [],
   "source": [
    "c=d.fromkeys(a,b)"
   ]
  },
  {
   "cell_type": "code",
   "execution_count": 28,
   "id": "0b13f774",
   "metadata": {},
   "outputs": [
    {
     "data": {
      "text/plain": [
       "{'Name': 'Naveen', 'Surname': 'Naveen'}"
      ]
     },
     "execution_count": 28,
     "metadata": {},
     "output_type": "execute_result"
    }
   ],
   "source": [
    "c"
   ]
  },
  {
   "cell_type": "code",
   "execution_count": 30,
   "id": "1dc72fc6",
   "metadata": {},
   "outputs": [],
   "source": [
    "Car={\"Compony\":\"Maruti\",\"Name\":\"Dezire\",\"Model\":2020,\"Price\":\"7lakh\"}"
   ]
  },
  {
   "cell_type": "code",
   "execution_count": 31,
   "id": "39cb1501",
   "metadata": {},
   "outputs": [
    {
     "data": {
      "text/plain": [
       "{'Compony': 'Maruti', 'Name': 'Dezire', 'Model': 2020, 'Price': '7lakh'}"
      ]
     },
     "execution_count": 31,
     "metadata": {},
     "output_type": "execute_result"
    }
   ],
   "source": [
    "Car"
   ]
  },
  {
   "cell_type": "code",
   "execution_count": 32,
   "id": "f0308446",
   "metadata": {},
   "outputs": [
    {
     "data": {
      "text/plain": [
       "2020"
      ]
     },
     "execution_count": 32,
     "metadata": {},
     "output_type": "execute_result"
    }
   ],
   "source": [
    "Car[\"Model\"]"
   ]
  },
  {
   "cell_type": "code",
   "execution_count": 33,
   "id": "cc3ad5a0",
   "metadata": {},
   "outputs": [
    {
     "data": {
      "text/plain": [
       "dict_values(['Maruti', 'Dezire', 2020, '7lakh'])"
      ]
     },
     "execution_count": 33,
     "metadata": {},
     "output_type": "execute_result"
    }
   ],
   "source": [
    "Car.values()"
   ]
  },
  {
   "cell_type": "code",
   "execution_count": 38,
   "id": "1a619e5f",
   "metadata": {},
   "outputs": [
    {
     "name": "stdout",
     "output_type": "stream",
     "text": [
      "The overview of car is {'Compony': 'Maruti', 'Name': 'Dezire', 'Model': 2020, 'Price': '7lakh'}\n"
     ]
    }
   ],
   "source": [
    "print(f\"The overview of car is {Car}\" )"
   ]
  },
  {
   "cell_type": "code",
   "execution_count": 39,
   "id": "9b34eb3a",
   "metadata": {},
   "outputs": [
    {
     "data": {
      "text/plain": [
       "{'Compony': 'Maruti', 'Name': 'Dezire', 'Model': 2020, 'Price': '7lakh'}"
      ]
     },
     "execution_count": 39,
     "metadata": {},
     "output_type": "execute_result"
    }
   ],
   "source": [
    "Car"
   ]
  },
  {
   "cell_type": "code",
   "execution_count": 40,
   "id": "05932b9d",
   "metadata": {},
   "outputs": [],
   "source": [
    "Car[\"Price\"]=\"8 Lakh\""
   ]
  },
  {
   "cell_type": "code",
   "execution_count": 41,
   "id": "742ef61d",
   "metadata": {},
   "outputs": [
    {
     "data": {
      "text/plain": [
       "{'Compony': 'Maruti', 'Name': 'Dezire', 'Model': 2020, 'Price': '8 Lakh'}"
      ]
     },
     "execution_count": 41,
     "metadata": {},
     "output_type": "execute_result"
    }
   ],
   "source": [
    "Car"
   ]
  },
  {
   "cell_type": "code",
   "execution_count": null,
   "id": "cedcb505",
   "metadata": {},
   "outputs": [],
   "source": []
  }
 ],
 "metadata": {
  "kernelspec": {
   "display_name": "Python 3 (ipykernel)",
   "language": "python",
   "name": "python3"
  },
  "language_info": {
   "codemirror_mode": {
    "name": "ipython",
    "version": 3
   },
   "file_extension": ".py",
   "mimetype": "text/x-python",
   "name": "python",
   "nbconvert_exporter": "python",
   "pygments_lexer": "ipython3",
   "version": "3.9.13"
  }
 },
 "nbformat": 4,
 "nbformat_minor": 5
}
